{
 "cells": [
  {
   "cell_type": "code",
   "execution_count": 1,
   "metadata": {},
   "outputs": [],
   "source": [
    "import sys\n",
    "sys.path.append(\"..\")\n",
    "import configparser\n",
    "from data_providers import TextDataProvider\n",
    "from sklearn.linear_model import LogisticRegressionCV, LogisticRegression\n",
    "from globals import ROOT_DIR\n",
    "import os\n",
    "import numpy as np\n",
    "from sklearn.metrics import f1_score, precision_score, recall_score, multilabel_confusion_matrix\n",
    "import time\n",
    "from utils import prepare_output_file\n",
    "LABEL_MAPPING = {0: 'hateful', 1: 'abusive', 2: 'normal', 3: 'spam'}"
   ]
  },
  {
   "cell_type": "code",
   "execution_count": 2,
   "metadata": {},
   "outputs": [],
   "source": [
    "config = configparser.ConfigParser()\n",
    "config.read('../config.ini')\n",
    "path_data = os.path.join(ROOT_DIR, config['DEFAULT']['PATH_DATA'])\n",
    "path_labels = os.path.join(ROOT_DIR, config['DEFAULT']['PATH_LABELS'])"
   ]
  },
  {
   "cell_type": "code",
   "execution_count": 3,
   "metadata": {},
   "outputs": [],
   "source": [
    "def get_confusion_matrix(y_true, preds, output, type_key, round_param=4):\n",
    "    \"\"\"\n",
    "        the count of true negatives is 00\n",
    "        false negatives is 10\n",
    "        true positives is  11\n",
    "        false positives is 01\n",
    "    \"\"\"\n",
    "    scores = f1_score(y_true, preds, average=None)\n",
    "\n",
    "    labels = set(y_true)\n",
    "    MCM = multilabel_confusion_matrix(y_true, preds, labels=[i for i in range(len(labels))])\n",
    "    confusion_matrices = {}\n",
    "    confusion_matrix_map = {'true_negative': (0,0),\n",
    "                            'false_negative': (1,0),\n",
    "                            'true_positive': (1,1),\n",
    "                            'false_positive': (0,1)}\n",
    "    for label in labels:\n",
    "        for key, value in confusion_matrix_map.items():\n",
    "            row, col = value\n",
    "            output[key + '_' + LABEL_MAPPING[label]] = np.around(MCM[label][row][col]/len(preds), round_param)"
   ]
  },
  {
   "cell_type": "code",
   "execution_count": 4,
   "metadata": {},
   "outputs": [],
   "source": [
    "def get_f_scores(y_true, preds, output, type_key, round_param=4):\n",
    "    f_score = f1_score(y_true, preds, average='weighted')  \n",
    "    print(\"F Score {:.2f}\".format(f_score))\n",
    "    output['{}_f_score'.format(type_key)] = np.around(f_score, round_param)\n",
    "\n",
    "    f1_scores = f1_score(y_true, preds, average=None)\n",
    "    precision_scores = precision_score(y_true, preds, average=None)\n",
    "    recall_scores = recall_score(y_true, preds, average=None)\n",
    "    \n",
    "    for i in range(len(f1_scores)):\n",
    "        output[type_key + '_f_score_' + LABEL_MAPPING[i]] = np.around(f1_scores[i], round_param)\n",
    "        output[type_key + '_precision_' + LABEL_MAPPING[i]] = np.around(recall_scores[i], round_param)\n",
    "        output[type_key + '_recall_' + LABEL_MAPPING[i]] = np.around(recall_scores[i], round_param)"
   ]
  },
  {
   "cell_type": "code",
   "execution_count": 5,
   "metadata": {},
   "outputs": [],
   "source": [
    "def results(model, type_key, x, y_true, output, round_param=4):\n",
    "    # get accuracy \n",
    "    acc = model.score(x, y_true)\n",
    "    print(\"Accuracy {:.2f}\".format(acc))\n",
    "    output['{}_acc'.format(type_key)] = np.around(acc, round_param)\n",
    "    \n",
    "    # get f score metrics\n",
    "    preds = model.predict(x)     \n",
    "    get_f_scores(y_true, preds, output, type_key)\n",
    "   # get_confusion_matrix(y_true, preds, output, type_key)\n",
    "    "
   ]
  },
  {
   "cell_type": "code",
   "execution_count": 6,
   "metadata": {},
   "outputs": [],
   "source": [
    "def populate_missing_params(output):\n",
    "    \"\"\"\n",
    "    Fills data with fields we are ignored for LR \n",
    "    \"\"\"\n",
    "    missing_params_class = [] #train_loss_class_hateful\n",
    "    missing_params_overall = ['loss']\n",
    "    for type_key in ['train', 'valid', 'test']:\n",
    "        for item in missing_params_class:\n",
    "            for label in range(4):\n",
    "                output['{}_{}_class_{}'.format(type_key, item, LABEL_MAPPING[label])] = '-'                \n",
    "        for item in missing_params_overall:\n",
    "            output['{}_{}'.format(type_key, item)] = '-'\n",
    "    "
   ]
  },
  {
   "cell_type": "code",
   "execution_count": 7,
   "metadata": {},
   "outputs": [],
   "source": [
    "def output_to_csv(output, file_action_key='a+', experiment_name='logistic_regression_cv_baseline'):\n",
    "    \"\"\"\n",
    "    Output results to .csv\n",
    "    \"\"\"\n",
    "    output['title'] = experiment_name\n",
    "    output['epoch'] = '-'\n",
    "    output['learning_rate'] = '-'\n",
    "    \n",
    "    results_dir = os.path.join(ROOT_DIR, 'results/{}'.format(experiment_name))\n",
    "    if not os.path.isdir(os.path.join(results_dir)):\n",
    "        print(\"Directory added\")\n",
    "        os.mkdir(results_dir)\n",
    "    prepare_output_file(filename=os.path.join(results_dir, 'results.csv'), output=[output], file_action_key=file_action_key)\n",
    "    "
   ]
  },
  {
   "cell_type": "code",
   "execution_count": null,
   "metadata": {},
   "outputs": [
    {
     "name": "stdout",
     "output_type": "stream",
     "text": [
      "=== Experiment with seed 26 running ===\n",
      "=== Extracting annotations ===\n",
      "=== Extracting tweets from JSON ===\n",
      "[Stats] Removed 3/58358 labels\n",
      "[Stats] Average tweet length is 17 words\n",
      "[Stats] Average tweet length is 121 characters\n",
      "[Stats] Average favorite count is 15\n",
      "[Stats] Average retweet count is 146\n",
      "[Stats] Average follower count is 710\n",
      "[Sizes] Training set: 64.00%, Validation set: 16.00%, Test set: 20.00%\n",
      "[Sizes] Training set: 64.00%, Validation set: 16.00%, Test set: 20.00%\n",
      "=== Model Started Training ===\n"
     ]
    },
    {
     "name": "stderr",
     "output_type": "stream",
     "text": [
      "/Users/ashemagalhaes/miniconda3/envs/hate_speech/lib/python3.6/site-packages/sklearn/model_selection/_split.py:1978: FutureWarning: The default value of cv will change from 3 to 5 in version 0.22. Specify it explicitly to silence this warning.\n",
      "  warnings.warn(CV_WARNING, FutureWarning)\n",
      "/Users/ashemagalhaes/miniconda3/envs/hate_speech/lib/python3.6/site-packages/sklearn/linear_model/logistic.py:947: ConvergenceWarning: lbfgs failed to converge. Increase the number of iterations.\n",
      "  \"of iterations.\", ConvergenceWarning)\n",
      "/Users/ashemagalhaes/miniconda3/envs/hate_speech/lib/python3.6/site-packages/sklearn/linear_model/logistic.py:947: ConvergenceWarning: lbfgs failed to converge. Increase the number of iterations.\n",
      "  \"of iterations.\", ConvergenceWarning)\n"
     ]
    }
   ],
   "source": [
    "\n",
    "\"\"\"\n",
    "Experiments \n",
    "\n",
    "\"\"\"\n",
    "\n",
    "experiment_seeds = [26, 27, 28]\n",
    "\n",
    "for i, seed in enumerate(experiment_seeds):\n",
    "    print(\"=== Experiment with seed {} running ===\".format(seed))\n",
    "            \n",
    "    data = TextDataProvider(path_data, path_labels).generate_tdidf_embeddings(seed)\n",
    "        \n",
    "    print(\"=== Model Started Training ===\")\n",
    "    start = time.time()\n",
    "\n",
    "    model = LogisticRegressionCV(Cs=10, random_state=seed, solver='lbfgs', multi_class='multinomial')\n",
    "    model = model.fit(data['x_train'], data['y_train'])\n",
    "    \n",
    "    print(\"=== Model Completed Training ({:2f} min) ===\".format((time.time() - start) / 60))\n",
    "    \n",
    "    output = {}\n",
    "    output['seed'] = seed\n",
    "    populate_missing_params(output) #so that we can add to same sheet as Neural Nets \n",
    "    for type_key in ['train', 'valid', 'test']:\n",
    "        print(\"=== Processing {} set ===\".format(type_key))\n",
    "        results(model, type_key, data['x_{}'.format(type_key)], data['y_{}'.format(type_key)], output)\n",
    "        print('\\n')\n",
    "    file_action_key = 'w' if i == 0 else 'a+' "
   ]
  },
  {
   "cell_type": "code",
   "execution_count": null,
   "metadata": {},
   "outputs": [],
   "source": [
    "output_keys = ['train_acc', 'train_loss', 'train_f_score', 'train_f_score_hateful', 'train_precision_hateful', 'train_recall_hateful', 'train_f_score_abusive', 'train_precision_abusive', 'train_recall_abusive', 'train_f_score_normal', 'train_precision_normal', 'train_recall_normal', 'train_f_score_spam', 'train_precision_spam', 'train_recall_spam', 'valid_acc', 'valid_loss', 'valid_f_score', 'valid_f_score_hateful', 'valid_precision_hateful', 'valid_recall_hateful', 'valid_f_score_abusive', 'valid_precision_abusive', 'valid_recall_abusive', 'valid_f_score_normal', 'valid_precision_normal', 'valid_recall_normal', 'valid_f_score_spam', 'valid_precision_spam', 'valid_recall_spam', 'test_experiment_acc', 'test_experiment_loss', 'test_experiment_f_score', 'test_experiment_f_score_hateful', 'test_experiment_precision_hateful', 'test_experiment_recall_hateful', 'test_experiment_f_score_abusive', 'test_experiment_precision_abusive', 'test_experiment_recall_abusive', 'test_experiment_f_score_normal', 'test_experiment_precision_normal', 'test_experiment_recall_normal', 'test_experiment_f_score_spam', 'test_experiment_precision_spam', 'test_experiment_recall_spam']\n",
    "for item in output_keys:\n",
    "    if item not in output:\n",
    "        if 'test' in item:\n",
    "            output[item] = output[item.replace('experiment_', '')]\n",
    "        else:\n",
    "            output[item] = '-'\n",
    "print(output)\n",
    "output_to_csv(output, file_action_key)\n"
   ]
  },
  {
   "cell_type": "code",
   "execution_count": null,
   "metadata": {},
   "outputs": [],
   "source": []
  }
 ],
 "metadata": {
  "kernelspec": {
   "display_name": "Python 3",
   "language": "python",
   "name": "python3"
  },
  "language_info": {
   "codemirror_mode": {
    "name": "ipython",
    "version": 3
   },
   "file_extension": ".py",
   "mimetype": "text/x-python",
   "name": "python",
   "nbconvert_exporter": "python",
   "pygments_lexer": "ipython3",
   "version": "3.6.7"
  }
 },
 "nbformat": 4,
 "nbformat_minor": 2
}
