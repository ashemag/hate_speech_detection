{
 "cells": [
  {
   "cell_type": "code",
   "execution_count": 1,
   "metadata": {},
   "outputs": [],
   "source": [
    "import sys\n",
    "sys.path.append(\"..\")\n",
    "import configparser\n",
    "from data_providers import TextDataProvider\n",
    "from sklearn.linear_model import LogisticRegressionCV, LogisticRegression\n",
    "from globals import ROOT_DIR\n",
    "import os\n",
    "import numpy as np\n",
    "from sklearn.metrics import f1_score, precision_score, recall_score\n",
    "import time\n",
    "from utils import prepare_output_file\n",
    "LABEL_MAPPING = {0: 'hateful', 1: 'abusive', 2: 'normal', 3: 'spam'}"
   ]
  },
  {
   "cell_type": "code",
   "execution_count": 2,
   "metadata": {},
   "outputs": [],
   "source": [
    "config = configparser.ConfigParser()\n",
    "config.read('../config.ini')\n",
    "path_data = os.path.join(ROOT_DIR, config['DEFAULT']['PATH_DATA'])\n",
    "path_labels = os.path.join(ROOT_DIR, config['DEFAULT']['PATH_LABELS'])"
   ]
  },
  {
   "cell_type": "code",
   "execution_count": 3,
   "metadata": {},
   "outputs": [],
   "source": [
    "def get_confusion_matrix(y_true, preds, output, type_key, round_param=4):\n",
    "    \"\"\"\n",
    "        the count of true negatives is 00\n",
    "        false negatives is 10\n",
    "        true positives is  11\n",
    "        false positives is 01\n",
    "    \"\"\"\n",
    "    scores = f1_score(y_true, preds, average=None)\n",
    "\n",
    "    labels = set(y_true)\n",
    "    MCM = multilabel_confusion_matrix(y_true, preds, labels=[i for i in range(len(labels))])\n",
    "    confusion_matrices = {}\n",
    "    confusion_matrix_map = {'true_negative': (0,0),\n",
    "                            'false_negative': (1,0),\n",
    "                            'true_positive': (1,1),\n",
    "                            'false_positive': (0,1)}\n",
    "    for label in labels:\n",
    "        for key, value in confusion_matrix_map.items():\n",
    "            row, col = value\n",
    "            output[key + '_' + LABEL_MAPPING[label]] = np.around(MCM[label][row][col]/len(preds), round_param)"
   ]
  },
  {
   "cell_type": "code",
   "execution_count": 4,
   "metadata": {},
   "outputs": [],
   "source": [
    "def get_f_scores(y_true, preds, output, type_key, round_param=4):\n",
    "    f_score = f1_score(y_true, preds, average='weighted')  \n",
    "    print(\"F Score {:.2f}\".format(f_score))\n",
    "    output['{}_f_score'.format(type_key)] = np.around(f_score, round_param)\n",
    "\n",
    "    f1_scores = f1_score(y_true, preds, average=None)\n",
    "    precision_scores = precision_score(y_true, preds, average=None)\n",
    "    recall_scores = recall_score(y_true, preds, average=None)\n",
    "    \n",
    "    for i in range(len(f1_scores)):\n",
    "        output[type_key + '_f_score_' + LABEL_MAPPING[i]] = np.around(f1_scores[i], round_param)\n",
    "        output[type_key + '_precision_' + LABEL_MAPPING[i]] = np.around(recall_scores[i], round_param)\n",
    "        output[type_key + '_recall_' + LABEL_MAPPING[i]] = np.around(recall_scores[i], round_param)"
   ]
  },
  {
   "cell_type": "code",
   "execution_count": 5,
   "metadata": {},
   "outputs": [],
   "source": [
    "def results(model, type_key, x, y_true, output, round_param=4):\n",
    "    # get accuracy \n",
    "    acc = model.score(x, y_true)\n",
    "    print(\"Accuracy {:.2f}\".format(acc))\n",
    "    output['{}_acc'.format(type_key)] = np.around(acc, round_param)\n",
    "    \n",
    "    # get f score metrics\n",
    "    preds = model.predict(x)     \n",
    "    get_f_scores(y_true, preds, output, type_key)\n",
    "   # get_confusion_matrix(y_true, preds, output, type_key)\n",
    "    "
   ]
  },
  {
   "cell_type": "code",
   "execution_count": 6,
   "metadata": {},
   "outputs": [],
   "source": [
    "def populate_missing_params(output):\n",
    "    \"\"\"\n",
    "    Fills data with fields we are ignored for LR \n",
    "    \"\"\"\n",
    "    missing_params_class = [] #train_loss_class_hateful\n",
    "    missing_params_overall = ['loss']\n",
    "    for type_key in ['train', 'valid', 'test']:\n",
    "        for item in missing_params_class:\n",
    "            for label in range(4):\n",
    "                output['{}_{}_class_{}'.format(type_key, item, LABEL_MAPPING[label])] = '-'                \n",
    "        for item in missing_params_overall:\n",
    "            output['{}_{}'.format(type_key, item)] = '-'\n",
    "    "
   ]
  },
  {
   "cell_type": "code",
   "execution_count": 7,
   "metadata": {},
   "outputs": [],
   "source": [
    "def output_to_csv(output, file_action_key='a+', experiment_name='logistic_regression_cv_baseline'):\n",
    "    \"\"\"\n",
    "    Output results to .csv\n",
    "    \"\"\"\n",
    "    output['title'] = experiment_name\n",
    "    output['epoch'] = '-'\n",
    "    output['learning_rate'] = '-'\n",
    "    \n",
    "    results_dir = os.path.join(ROOT_DIR, 'results/{}'.format(experiment_name))\n",
    "    if not os.path.isdir(os.path.join(results_dir)):\n",
    "        print(\"Directory added\")\n",
    "        os.mkdir(results_dir)\n",
    "    prepare_output_file(filename=os.path.join(results_dir, 'results.csv'), output=[output], file_action_key=file_action_key)\n",
    "    "
   ]
  },
  {
   "cell_type": "code",
   "execution_count": null,
   "metadata": {},
   "outputs": [],
   "source": []
  },
  {
   "cell_type": "code",
   "execution_count": 17,
   "metadata": {},
   "outputs": [],
   "source": [
    "import gensim\n",
    "\n",
    "def process_word_embeddings(data):\n",
    "    data_copy = {}\n",
    "    for key, value in data.items():\n",
    "        if 'x' in key:\n",
    "            data_copy[key] = gensim.matutils.unitvec(np.array(value).mean(axis=1)).astype(np.float32)\n",
    "        else:\n",
    "            data_copy[key] = value\n",
    "    return data_copy"
   ]
  },
  {
   "cell_type": "code",
   "execution_count": 26,
   "metadata": {},
   "outputs": [
    {
     "name": "stdout",
     "output_type": "stream",
     "text": [
      "=== Experiment with seed 26 running ===\n",
      "=== Extracting annotations ===\n",
      "=== Extracting tweets from JSON ===\n",
      "[Stats] Removed 3/58358 labels\n",
      "[Stats] Average tweet length is 17 words\n",
      "[Stats] Average tweet length is 121 characters\n",
      "[Stats] Average favorite count is 15\n",
      "[Stats] Average retweet count is 146\n",
      "[Stats] Average follower count is 710\n",
      "[Sizes] Training set: 64.00%, Validation set: 16.00%, Test set: 20.00%\n",
      "=== Model Started Training ===\n"
     ]
    },
    {
     "name": "stderr",
     "output_type": "stream",
     "text": [
      "/Users/ashemagalhaes/miniconda3/envs/mlp/lib/python3.6/site-packages/sklearn/model_selection/_split.py:2053: FutureWarning: You should specify a value for 'cv' instead of relying on the default value. The default value will change from 3 to 5 in version 0.22.\n",
      "  warnings.warn(CV_WARNING, FutureWarning)\n",
      "/Users/ashemagalhaes/miniconda3/envs/mlp/lib/python3.6/site-packages/sklearn/linear_model/logistic.py:758: ConvergenceWarning: lbfgs failed to converge. Increase the number of iterations.\n",
      "  \"of iterations.\", ConvergenceWarning)\n",
      "/Users/ashemagalhaes/miniconda3/envs/mlp/lib/python3.6/site-packages/sklearn/linear_model/logistic.py:758: ConvergenceWarning: lbfgs failed to converge. Increase the number of iterations.\n",
      "  \"of iterations.\", ConvergenceWarning)\n",
      "/Users/ashemagalhaes/miniconda3/envs/mlp/lib/python3.6/site-packages/sklearn/linear_model/logistic.py:758: ConvergenceWarning: lbfgs failed to converge. Increase the number of iterations.\n",
      "  \"of iterations.\", ConvergenceWarning)\n",
      "/Users/ashemagalhaes/miniconda3/envs/mlp/lib/python3.6/site-packages/sklearn/linear_model/logistic.py:758: ConvergenceWarning: lbfgs failed to converge. Increase the number of iterations.\n",
      "  \"of iterations.\", ConvergenceWarning)\n"
     ]
    },
    {
     "name": "stdout",
     "output_type": "stream",
     "text": [
      "=== Model Completed Training (11.942571 min) ===\n",
      "=== Processing train set ===\n",
      "Accuracy 0.86\n",
      "F Score 0.85\n",
      "\n",
      "\n",
      "=== Processing valid set ===\n",
      "Accuracy 0.79\n",
      "F Score 0.77\n",
      "\n",
      "\n",
      "=== Processing test set ===\n",
      "Accuracy 0.78\n",
      "F Score 0.76\n",
      "\n",
      "\n",
      "=== Experiment with seed 27 running ===\n",
      "=== Extracting annotations ===\n",
      "=== Extracting tweets from JSON ===\n",
      "[Stats] Removed 3/58358 labels\n",
      "[Stats] Average tweet length is 17 words\n",
      "[Stats] Average tweet length is 121 characters\n",
      "[Stats] Average favorite count is 15\n",
      "[Stats] Average retweet count is 146\n",
      "[Stats] Average follower count is 710\n",
      "[Sizes] Training set: 64.00%, Validation set: 16.00%, Test set: 20.00%\n",
      "=== Model Started Training ===\n"
     ]
    },
    {
     "name": "stderr",
     "output_type": "stream",
     "text": [
      "/Users/ashemagalhaes/miniconda3/envs/mlp/lib/python3.6/site-packages/sklearn/model_selection/_split.py:2053: FutureWarning: You should specify a value for 'cv' instead of relying on the default value. The default value will change from 3 to 5 in version 0.22.\n",
      "  warnings.warn(CV_WARNING, FutureWarning)\n",
      "/Users/ashemagalhaes/miniconda3/envs/mlp/lib/python3.6/site-packages/sklearn/linear_model/logistic.py:758: ConvergenceWarning: lbfgs failed to converge. Increase the number of iterations.\n",
      "  \"of iterations.\", ConvergenceWarning)\n",
      "/Users/ashemagalhaes/miniconda3/envs/mlp/lib/python3.6/site-packages/sklearn/linear_model/logistic.py:758: ConvergenceWarning: lbfgs failed to converge. Increase the number of iterations.\n",
      "  \"of iterations.\", ConvergenceWarning)\n",
      "/Users/ashemagalhaes/miniconda3/envs/mlp/lib/python3.6/site-packages/sklearn/linear_model/logistic.py:758: ConvergenceWarning: lbfgs failed to converge. Increase the number of iterations.\n",
      "  \"of iterations.\", ConvergenceWarning)\n",
      "/Users/ashemagalhaes/miniconda3/envs/mlp/lib/python3.6/site-packages/sklearn/linear_model/logistic.py:758: ConvergenceWarning: lbfgs failed to converge. Increase the number of iterations.\n",
      "  \"of iterations.\", ConvergenceWarning)\n"
     ]
    },
    {
     "name": "stdout",
     "output_type": "stream",
     "text": [
      "=== Model Completed Training (12.043993 min) ===\n",
      "=== Processing train set ===\n",
      "Accuracy 0.86\n",
      "F Score 0.85\n",
      "\n",
      "\n",
      "=== Processing valid set ===\n",
      "Accuracy 0.79\n",
      "F Score 0.77\n",
      "\n",
      "\n",
      "=== Processing test set ===\n",
      "Accuracy 0.79\n",
      "F Score 0.77\n",
      "\n",
      "\n",
      "=== Experiment with seed 28 running ===\n",
      "=== Extracting annotations ===\n",
      "=== Extracting tweets from JSON ===\n",
      "[Stats] Removed 3/58358 labels\n",
      "[Stats] Average tweet length is 17 words\n",
      "[Stats] Average tweet length is 121 characters\n",
      "[Stats] Average favorite count is 15\n",
      "[Stats] Average retweet count is 146\n",
      "[Stats] Average follower count is 710\n",
      "[Sizes] Training set: 64.00%, Validation set: 16.00%, Test set: 20.00%\n",
      "=== Model Started Training ===\n"
     ]
    },
    {
     "name": "stderr",
     "output_type": "stream",
     "text": [
      "/Users/ashemagalhaes/miniconda3/envs/mlp/lib/python3.6/site-packages/sklearn/model_selection/_split.py:2053: FutureWarning: You should specify a value for 'cv' instead of relying on the default value. The default value will change from 3 to 5 in version 0.22.\n",
      "  warnings.warn(CV_WARNING, FutureWarning)\n",
      "/Users/ashemagalhaes/miniconda3/envs/mlp/lib/python3.6/site-packages/sklearn/linear_model/logistic.py:758: ConvergenceWarning: lbfgs failed to converge. Increase the number of iterations.\n",
      "  \"of iterations.\", ConvergenceWarning)\n",
      "/Users/ashemagalhaes/miniconda3/envs/mlp/lib/python3.6/site-packages/sklearn/linear_model/logistic.py:758: ConvergenceWarning: lbfgs failed to converge. Increase the number of iterations.\n",
      "  \"of iterations.\", ConvergenceWarning)\n",
      "/Users/ashemagalhaes/miniconda3/envs/mlp/lib/python3.6/site-packages/sklearn/linear_model/logistic.py:758: ConvergenceWarning: lbfgs failed to converge. Increase the number of iterations.\n",
      "  \"of iterations.\", ConvergenceWarning)\n",
      "/Users/ashemagalhaes/miniconda3/envs/mlp/lib/python3.6/site-packages/sklearn/linear_model/logistic.py:758: ConvergenceWarning: lbfgs failed to converge. Increase the number of iterations.\n",
      "  \"of iterations.\", ConvergenceWarning)\n"
     ]
    },
    {
     "name": "stdout",
     "output_type": "stream",
     "text": [
      "=== Model Completed Training (11.346743 min) ===\n",
      "=== Processing train set ===\n",
      "Accuracy 0.86\n",
      "F Score 0.85\n",
      "\n",
      "\n",
      "=== Processing valid set ===\n",
      "Accuracy 0.79\n",
      "F Score 0.77\n",
      "\n",
      "\n",
      "=== Processing test set ===\n",
      "Accuracy 0.79\n",
      "F Score 0.77\n",
      "\n",
      "\n"
     ]
    }
   ],
   "source": [
    "\"\"\"\n",
    "Experiments \n",
    "\n",
    "\"\"\"\n",
    "#data = TextDataProvider(path_data, path_labels).generate_tdidf_embeddings(seed)\n",
    "experiment_seeds = [26, 27, 28]\n",
    "for i, seed in enumerate(experiment_seeds):\n",
    "    print(\"=== Experiment with seed {} running ===\".format(seed))\n",
    "#     data = TextDataProvider(path_data, path_labels).generate_word_level_embeddings('word2vec', seed)\n",
    "#         data_copy = process_word_embeddings(data)\n",
    "    data_copy = TextDataProvider(path_data, path_labels).generate_tdidf_embeddings(seed)\n",
    "    print(\"=== Model Started Training ===\")\n",
    "    start = time.time()\n",
    "    model = LogisticRegressionCV(Cs=10, random_state=seed, solver='lbfgs', multi_class='multinomial')\n",
    "    model = model.fit(data_copy['x_train'], data_copy['y_train'])\n",
    "    \n",
    "    print(\"=== Model Completed Training ({:2f} min) ===\".format((time.time() - start) / 60))\n",
    "    \n",
    "    output = {}\n",
    "    output['seed'] = seed\n",
    "    populate_missing_params(output) #so that we can add to same sheet as Neural Nets \n",
    "    for type_key in ['train', 'valid', 'test']:\n",
    "        print(\"=== Processing {} set ===\".format(type_key))\n",
    "        results(model, type_key, data_copy['x_{}'.format(type_key)], data_copy['y_{}'.format(type_key)], output)\n",
    "        print('\\n')\n",
    "    file_action_key = 'w' if i == 0 else 'a+' \n",
    "    output_to_csv(output, file_action_key, experiment_name='logistic_regression_baseline_tdidf')"
   ]
  },
  {
   "cell_type": "code",
   "execution_count": 20,
   "metadata": {},
   "outputs": [
    {
     "name": "stdout",
     "output_type": "stream",
     "text": [
      "{'seed': 28, 'train_loss': '-', 'valid_loss': '-', 'test_loss': '-', 'train_acc': 0.7521, 'train_f_score': 0.7075, 'train_f_score_hateful': 0.0013, 'train_precision_hateful': 0.0007, 'train_recall_hateful': 0.0007, 'train_f_score_abusive': 0.5222, 'train_precision_abusive': 0.4101, 'train_recall_abusive': 0.4101, 'train_f_score_normal': 0.8501, 'train_precision_normal': 0.9525, 'train_recall_normal': 0.9525, 'train_f_score_spam': 0.3714, 'train_precision_spam': 0.2707, 'train_recall_spam': 0.2707, 'valid_acc': 0.745, 'valid_f_score': 0.7129, 'valid_f_score_hateful': 0.1127, 'valid_precision_hateful': 0.0737, 'valid_recall_hateful': 0.0737, 'valid_f_score_abusive': 0.5595, 'valid_precision_abusive': 0.5273, 'valid_recall_abusive': 0.5273, 'valid_f_score_normal': 0.8492, 'valid_precision_normal': 0.923, 'valid_recall_normal': 0.923, 'valid_f_score_spam': 0.3591, 'valid_precision_spam': 0.2654, 'valid_recall_spam': 0.2654, 'test_acc': 0.7572, 'test_f_score': 0.7262, 'test_f_score_hateful': 0.0935, 'test_precision_hateful': 0.0558, 'test_recall_hateful': 0.0558, 'test_f_score_abusive': 0.5845, 'test_precision_abusive': 0.5609, 'test_recall_abusive': 0.5609, 'test_f_score_normal': 0.8549, 'test_precision_normal': 0.9257, 'test_recall_normal': 0.9257, 'test_f_score_spam': 0.3903, 'test_precision_spam': 0.2932, 'test_recall_spam': 0.2932}\n"
     ]
    }
   ],
   "source": [
    "print(output)"
   ]
  },
  {
   "cell_type": "code",
   "execution_count": 21,
   "metadata": {},
   "outputs": [],
   "source": [
    "output_to_csv(output, file_action_key, experiment_name='lo')"
   ]
  },
  {
   "cell_type": "code",
   "execution_count": null,
   "metadata": {},
   "outputs": [],
   "source": []
  }
 ],
 "metadata": {
  "kernelspec": {
   "display_name": "Python 3",
   "language": "python",
   "name": "python3"
  },
  "language_info": {
   "codemirror_mode": {
    "name": "ipython",
    "version": 3
   },
   "file_extension": ".py",
   "mimetype": "text/x-python",
   "name": "python",
   "nbconvert_exporter": "python",
   "pygments_lexer": "ipython3",
   "version": "3.6.7"
  }
 },
 "nbformat": 4,
 "nbformat_minor": 2
}
