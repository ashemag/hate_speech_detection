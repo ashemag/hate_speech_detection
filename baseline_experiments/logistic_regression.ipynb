{
 "cells": [
  {
   "cell_type": "code",
   "execution_count": 1,
   "metadata": {},
   "outputs": [],
   "source": [
    "import sys\n",
    "sys.path.append(\"..\")\n",
    "import configparser\n",
    "from data_providers import TextDataProvider\n",
    "from sklearn.linear_model import LogisticRegressionCV, LogisticRegression\n",
    "from globals import ROOT_DIR\n",
    "import os\n",
    "import numpy as np\n",
    "from sklearn.metrics import f1_score, precision_score, recall_score\n",
    "import time\n",
    "from utils import prepare_output_file\n",
    "LABEL_MAPPING = {0: 'hateful', 1: 'abusive', 2: 'normal', 3: 'spam'}"
   ]
  },
  {
   "cell_type": "code",
   "execution_count": 2,
   "metadata": {},
   "outputs": [],
   "source": [
    "config = configparser.ConfigParser()\n",
    "config.read('../config.ini')\n",
    "path_data = os.path.join(ROOT_DIR, config['DEFAULT']['PATH_DATA'])\n",
    "path_labels = os.path.join(ROOT_DIR, config['DEFAULT']['PATH_LABELS'])"
   ]
  },
  {
   "cell_type": "code",
   "execution_count": 3,
   "metadata": {},
   "outputs": [],
   "source": [
    "def get_confusion_matrix(y_true, preds, output, type_key, round_param=4):\n",
    "    \"\"\"\n",
    "        the count of true negatives is 00\n",
    "        false negatives is 10\n",
    "        true positives is  11\n",
    "        false positives is 01\n",
    "    \"\"\"\n",
    "    scores = f1_score(y_true, preds, average=None)\n",
    "\n",
    "    labels = set(y_true)\n",
    "    MCM = multilabel_confusion_matrix(y_true, preds, labels=[i for i in range(len(labels))])\n",
    "    confusion_matrices = {}\n",
    "    confusion_matrix_map = {'true_negative': (0,0),\n",
    "                            'false_negative': (1,0),\n",
    "                            'true_positive': (1,1),\n",
    "                            'false_positive': (0,1)}\n",
    "    for label in labels:\n",
    "        for key, value in confusion_matrix_map.items():\n",
    "            row, col = value\n",
    "            output[key + '_' + LABEL_MAPPING[label]] = np.around(MCM[label][row][col]/len(preds), round_param)"
   ]
  },
  {
   "cell_type": "code",
   "execution_count": 4,
   "metadata": {},
   "outputs": [],
   "source": [
    "def get_f_scores(y_true, preds, output, type_key, round_param=4):\n",
    "    f_score = f1_score(y_true, preds, average='weighted')  \n",
    "    precision = precision_score(y_true, preds, average='weighted')  \n",
    "    recall = recall_score(y_true, preds, average='weighted')  \n",
    "    \n",
    "    \n",
    "    print(\"F Score {:.2f}\".format(f_score))\n",
    "    output['{}_f_score'.format(type_key)] = np.around(f_score, round_param)\n",
    "    output['{}_precision'.format(type_key)] = np.around(precision, round_param)\n",
    "    output['{}_recall'.format(type_key)] = np.around(recall, round_param)\n",
    "\n",
    "    f1_scores = f1_score(y_true, preds, average=None)\n",
    "    precision_scores = precision_score(y_true, preds, average=None)\n",
    "    recall_scores = recall_score(y_true, preds, average=None)\n",
    "    \n",
    "    for i in range(len(f1_scores)):\n",
    "        output[type_key + '_f_score_' + LABEL_MAPPING[i]] = np.around(f1_scores[i], round_param)\n",
    "        output[type_key + '_precision_' + LABEL_MAPPING[i]] = np.around(recall_scores[i], round_param)\n",
    "        output[type_key + '_recall_' + LABEL_MAPPING[i]] = np.around(recall_scores[i], round_param)"
   ]
  },
  {
   "cell_type": "code",
   "execution_count": 5,
   "metadata": {},
   "outputs": [],
   "source": [
    "def results(model, type_key, x, y_true, output, round_param=4):\n",
    "    # get accuracy \n",
    "    acc = model.score(x, y_true)\n",
    "    print(\"Accuracy {:.2f}\".format(acc))\n",
    "    output['{}_acc'.format(type_key)] = np.around(acc, round_param)\n",
    "    \n",
    "    # get f score metrics\n",
    "    preds = model.predict(x)     \n",
    "    get_f_scores(y_true, preds, output, type_key)\n",
    "   # get_confusion_matrix(y_true, preds, output, type_key)\n",
    "    "
   ]
  },
  {
   "cell_type": "code",
   "execution_count": 6,
   "metadata": {},
   "outputs": [],
   "source": [
    "def populate_missing_params(output):\n",
    "    \"\"\"\n",
    "    Fills data with fields we are ignored for LR \n",
    "    \"\"\"\n",
    "    missing_params_class = [] #train_loss_class_hateful\n",
    "    missing_params_overall = ['loss']\n",
    "    for type_key in ['train', 'valid', 'test']:\n",
    "        for item in missing_params_class:\n",
    "            for label in range(4):\n",
    "                output['{}_{}_class_{}'.format(type_key, item, LABEL_MAPPING[label])] = '-'                \n",
    "        for item in missing_params_overall:\n",
    "            output['{}_{}'.format(type_key, item)] = '-'\n",
    "    "
   ]
  },
  {
   "cell_type": "code",
   "execution_count": 7,
   "metadata": {},
   "outputs": [],
   "source": [
    "def output_to_csv(output, file_action_key='a+', experiment_name='logistic_regression_cv_baseline'):\n",
    "    \"\"\"\n",
    "    Output results to .csv\n",
    "    \"\"\"\n",
    "    output['title'] = experiment_name\n",
    "    output['epoch'] = '-'\n",
    "    output['learning_rate'] = '-'\n",
    "    \n",
    "    results_dir = os.path.join(ROOT_DIR, 'results/{}'.format(experiment_name))\n",
    "    if not os.path.isdir(os.path.join(results_dir)):\n",
    "        print(\"Directory added\")\n",
    "        os.mkdir(results_dir)\n",
    "    prepare_output_file(filename=os.path.join(results_dir, 'results.csv'), output=[output], file_action_key=file_action_key)\n",
    "    "
   ]
  },
  {
   "cell_type": "code",
   "execution_count": 8,
   "metadata": {},
   "outputs": [],
   "source": [
    "import gensim\n",
    "\n",
    "def process_word_embeddings(data):\n",
    "    data_copy = {}\n",
    "    for key, value in data.items():\n",
    "        if 'x' in key:\n",
    "            data_copy[key] = gensim.matutils.unitvec(np.array(value).mean(axis=1)).astype(np.float32)\n",
    "        else:\n",
    "            data_copy[key] = value\n",
    "    return data_copy"
   ]
  },
  {
   "cell_type": "code",
   "execution_count": null,
   "metadata": {},
   "outputs": [
    {
     "name": "stdout",
     "output_type": "stream",
     "text": [
      "=== Experiment with seed 26 running ===\n",
      "=== Extracting tweets from JSON ===\n",
      "[Sizes] Training set: 64.00%, Validation set: 16.00%, Test set: 20.00%\n",
      "Downloading Bert, Processed 0 / 7\n",
      "Downloading Bert, Processed 1 / 7\n",
      "Downloading Bert, Processed 2 / 7\n",
      "Downloading Bert, Processed 3 / 7\n",
      "Downloading Bert, Processed 4 / 7\n",
      "Downloading Bert, Processed 5 / 7\n",
      "Downloading Bert, Processed 6 / 7\n",
      "Downloading Bert, Processed 7 / 7\n",
      "processing x-train\n",
      "processing x-valid\n",
      "processing x-test\n",
      "Word embeddings generated\n"
     ]
    }
   ],
   "source": [
    "\"\"\"\n",
    "Experiments \n",
    "\n",
    "\"\"\"\n",
    "experiment_seeds = [26, 27, 28]\n",
    "for i, seed in enumerate(experiment_seeds):\n",
    "    print(\"=== Experiment with seed {} running ===\".format(seed))\n",
    "    data = TextDataProvider(path_data, path_labels, 1).generate_word_level_embeddings('bert', seed)\n",
    "    data_copy = process_word_embeddings(data)\n",
    "#     data_copy = TextDataProvider(path_data, path_labels, 1).generate_tdidf_embeddings(seed)\n",
    "    print(\"=== Model Started Training ===\")\n",
    "    start = time.time()\n",
    "    model = LogisticRegression(random_state=seed, solver='lbfgs', multi_class='multinomial')\n",
    "    model = model.fit(data_copy['x_train'], data_copy['y_train'])\n",
    "    \n",
    "    print(\"=== Model Completed Training ({:2f} min) ===\".format((time.time() - start) / 60))\n",
    "    \n",
    "    output = {}\n",
    "    output['seed'] = seed\n",
    "    populate_missing_params(output) #so that we can add to same sheet as Neural Nets \n",
    "    for type_key in ['train', 'valid', 'test']:\n",
    "        print(\"=== Processing {} set ===\".format(type_key))\n",
    "        results(model, type_key, data_copy['x_{}'.format(type_key)], data_copy['y_{}'.format(type_key)], output)\n",
    "        print('\\n')\n",
    "    file_action_key = 'w' if i == 0 else 'a+' \n",
    "    output_to_csv(output, file_action_key, experiment_name='logistic_regression_baseline_bert')"
   ]
  },
  {
   "cell_type": "code",
   "execution_count": null,
   "metadata": {},
   "outputs": [],
   "source": [
    "' '.join([' '] * 17)"
   ]
  },
  {
   "cell_type": "code",
   "execution_count": null,
   "metadata": {},
   "outputs": [],
   "source": [
    "output_to_csv(output, file_action_key, experiment_name='lo')"
   ]
  },
  {
   "cell_type": "code",
   "execution_count": null,
   "metadata": {},
   "outputs": [],
   "source": []
  }
 ],
 "metadata": {
  "kernelspec": {
   "display_name": "Python 3",
   "language": "python",
   "name": "python3"
  },
  "language_info": {
   "codemirror_mode": {
    "name": "ipython",
    "version": 3
   },
   "file_extension": ".py",
   "mimetype": "text/x-python",
   "name": "python",
   "nbconvert_exporter": "python",
   "pygments_lexer": "ipython3",
   "version": "3.6.7"
  }
 },
 "nbformat": 4,
 "nbformat_minor": 2
}
