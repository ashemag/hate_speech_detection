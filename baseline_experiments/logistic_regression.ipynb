{
 "cells": [
  {
   "cell_type": "code",
   "execution_count": 2,
   "metadata": {},
   "outputs": [],
   "source": [
    "import sys\n",
    "sys.path.append(\"..\")\n",
    "import configparser\n",
    "from data_providers import TextDataProvider\n",
    "from sklearn.linear_model import LogisticRegressionCV, LogisticRegression\n",
    "from globals import ROOT_DIR\n",
    "import os\n",
    "import numpy as np\n",
    "from sklearn.metrics import f1_score, precision_score, recall_score\n",
    "import time\n",
    "from utils import prepare_output_file\n",
    "LABEL_MAPPING = {0: 'hateful', 1: 'abusive', 2: 'normal', 3: 'spam'}"
   ]
  },
  {
   "cell_type": "code",
   "execution_count": 3,
   "metadata": {},
   "outputs": [],
   "source": [
    "config = configparser.ConfigParser()\n",
    "config.read('../config.ini')\n",
    "path_data = os.path.join(ROOT_DIR, config['DEFAULT']['PATH_DATA'])\n",
    "path_labels = os.path.join(ROOT_DIR, config['DEFAULT']['PATH_LABELS'])"
   ]
  },
  {
   "cell_type": "code",
   "execution_count": 4,
   "metadata": {},
   "outputs": [],
   "source": [
    "def get_confusion_matrix(y_true, preds, output, type_key, round_param=4):\n",
    "    \"\"\"\n",
    "        the count of true negatives is 00\n",
    "        false negatives is 10\n",
    "        true positives is  11\n",
    "        false positives is 01\n",
    "    \"\"\"\n",
    "    scores = f1_score(y_true, preds, average=None)\n",
    "\n",
    "    labels = set(y_true)\n",
    "    MCM = multilabel_confusion_matrix(y_true, preds, labels=[i for i in range(len(labels))])\n",
    "    confusion_matrices = {}\n",
    "    confusion_matrix_map = {'true_negative': (0,0),\n",
    "                            'false_negative': (1,0),\n",
    "                            'true_positive': (1,1),\n",
    "                            'false_positive': (0,1)}\n",
    "    for label in labels:\n",
    "        for key, value in confusion_matrix_map.items():\n",
    "            row, col = value\n",
    "            output[key + '_' + LABEL_MAPPING[label]] = np.around(MCM[label][row][col]/len(preds), round_param)"
   ]
  },
  {
   "cell_type": "code",
   "execution_count": 5,
   "metadata": {},
   "outputs": [],
   "source": [
    "def get_f_scores(y_true, preds, output, type_key, round_param=4):\n",
    "    f_score = f1_score(y_true, preds, average='weighted')  \n",
    "    precision = precision_score(y_true, preds, average='weighted')  \n",
    "    recall = recall_score(y_true, preds, average='weighted')  \n",
    "    \n",
    "    \n",
    "    print(\"F Score {:.2f}\".format(f_score))\n",
    "    output['{}_f_score'.format(type_key)] = np.around(f_score, round_param)\n",
    "    output['{}_precision'.format(type_key)] = np.around(precision, round_param)\n",
    "    output['{}_recall'.format(type_key)] = np.around(recall, round_param)\n",
    "\n",
    "    f1_scores = f1_score(y_true, preds, average=None)\n",
    "    precision_scores = precision_score(y_true, preds, average=None)\n",
    "    recall_scores = recall_score(y_true, preds, average=None)\n",
    "    \n",
    "    for i in range(len(f1_scores)):\n",
    "        output[type_key + '_f_score_' + LABEL_MAPPING[i]] = np.around(f1_scores[i], round_param)\n",
    "        output[type_key + '_precision_' + LABEL_MAPPING[i]] = np.around(recall_scores[i], round_param)\n",
    "        output[type_key + '_recall_' + LABEL_MAPPING[i]] = np.around(recall_scores[i], round_param)"
   ]
  },
  {
   "cell_type": "code",
   "execution_count": 6,
   "metadata": {},
   "outputs": [],
   "source": [
    "def results(model, type_key, x, y_true, output, round_param=4):\n",
    "    # get accuracy \n",
    "    acc = model.score(x, y_true)\n",
    "    print(\"Accuracy {:.2f}\".format(acc))\n",
    "    output['{}_acc'.format(type_key)] = np.around(acc, round_param)\n",
    "    \n",
    "    # get f score metrics\n",
    "    preds = model.predict(x)     \n",
    "    get_f_scores(y_true, preds, output, type_key)\n",
    "   # get_confusion_matrix(y_true, preds, output, type_key)\n",
    "    "
   ]
  },
  {
   "cell_type": "code",
   "execution_count": 7,
   "metadata": {},
   "outputs": [],
   "source": [
    "def populate_missing_params(output):\n",
    "    \"\"\"\n",
    "    Fills data with fields we are ignored for LR \n",
    "    \"\"\"\n",
    "    missing_params_class = [] #train_loss_class_hateful\n",
    "    missing_params_overall = ['loss']\n",
    "    for type_key in ['train', 'valid', 'test']:\n",
    "        for item in missing_params_class:\n",
    "            for label in range(4):\n",
    "                output['{}_{}_class_{}'.format(type_key, item, LABEL_MAPPING[label])] = '-'                \n",
    "        for item in missing_params_overall:\n",
    "            output['{}_{}'.format(type_key, item)] = '-'\n",
    "    "
   ]
  },
  {
   "cell_type": "code",
   "execution_count": 8,
   "metadata": {},
   "outputs": [],
   "source": [
    "def output_to_csv(output, file_action_key='a+', experiment_name='logistic_regression_cv_baseline'):\n",
    "    \"\"\"\n",
    "    Output results to .csv\n",
    "    \"\"\"\n",
    "    output['title'] = experiment_name\n",
    "    output['epoch'] = '-'\n",
    "    output['learning_rate'] = '-'\n",
    "    \n",
    "    results_dir = os.path.join(ROOT_DIR, 'results/{}'.format(experiment_name))\n",
    "    if not os.path.isdir(os.path.join(results_dir)):\n",
    "        print(\"Directory added\")\n",
    "        os.mkdir(results_dir)\n",
    "    prepare_output_file(filename=os.path.join(results_dir, 'results.csv'), output=[output], file_action_key=file_action_key)\n",
    "    "
   ]
  },
  {
   "cell_type": "code",
   "execution_count": 9,
   "metadata": {},
   "outputs": [],
   "source": [
    "import gensim\n",
    "\n",
    "def process_word_embeddings(data):\n",
    "    data_copy = {}\n",
    "    for key, value in data.items():\n",
    "        if 'x' in key:\n",
    "            data_copy[key] = gensim.matutils.unitvec(np.array(value).mean(axis=1)).astype(np.float32)\n",
    "        else:\n",
    "            data_copy[key] = value\n",
    "    return data_copy"
   ]
  },
  {
   "cell_type": "code",
   "execution_count": 15,
   "metadata": {},
   "outputs": [
    {
     "name": "stdout",
     "output_type": "stream",
     "text": [
      "=== Experiment with seed 26 running ===\n",
      "=== Extracting tweets from JSON ===\n",
      "[Sizes] Training set: 64.00%, Validation set: 16.00%, Test set: 20.00%\n",
      "Downloading Bert, Processed 1 / 11\n",
      "Downloading Bert, Processed 2 / 11\n",
      "Downloading Bert, Processed 3 / 11\n",
      "Downloading Bert, Processed 4 / 11\n",
      "Downloading Bert, Processed 5 / 11\n",
      "Downloading Bert, Processed 6 / 11\n",
      "Downloading Bert, Processed 7 / 11\n",
      "Downloading Bert, Processed 8 / 11\n",
      "Downloading Bert, Processed 9 / 11\n",
      "Downloading Bert, Processed 10 / 11\n",
      "Downloading Bert, Processed 11 / 11\n",
      "Word embeddings generated\n",
      "=== Model Started Training ===\n"
     ]
    },
    {
     "name": "stderr",
     "output_type": "stream",
     "text": [
      "/Users/ashemagalhaes/miniconda3/envs/mlp/lib/python3.6/site-packages/sklearn/linear_model/logistic.py:758: ConvergenceWarning: lbfgs failed to converge. Increase the number of iterations.\n",
      "  \"of iterations.\", ConvergenceWarning)\n"
     ]
    },
    {
     "name": "stdout",
     "output_type": "stream",
     "text": [
      "=== Model Completed Training (10.009916 min) ===\n",
      "Accuracy 0.93\n",
      "F Score 0.93\n",
      "\n",
      "\n",
      "Accuracy 0.72\n",
      "F Score 0.72\n",
      "\n",
      "\n",
      "Accuracy 0.71\n",
      "F Score 0.71\n",
      "\n",
      "\n",
      "{'seed': 26, 'train_loss': '-', 'valid_loss': '-', 'test_loss': '-', 'train_acc': 0.9312, 'train_f_score': 0.9308, 'train_precision': 0.9307, 'train_recall': 0.9312, 'train_f_score_hateful': 0.8763, 'train_precision_hateful': 0.8307, 'train_recall_hateful': 0.8307, 'train_f_score_abusive': 0.9508, 'train_precision_abusive': 0.9537, 'train_recall_abusive': 0.9537, 'train_f_score_normal': 0.9506, 'train_precision_normal': 0.9559, 'train_recall_normal': 0.9559, 'train_f_score_spam': 0.8269, 'train_precision_spam': 0.8155, 'train_recall_spam': 0.8155, 'valid_acc': 0.7206, 'valid_f_score': 0.7178, 'valid_precision': 0.7156, 'valid_recall': 0.7206, 'valid_f_score_hateful': 0.2245, 'valid_precision_hateful': 0.196, 'valid_recall_hateful': 0.196, 'valid_f_score_abusive': 0.7526, 'valid_precision_abusive': 0.7467, 'valid_recall_abusive': 0.7467, 'valid_f_score_normal': 0.8026, 'valid_precision_normal': 0.8104, 'valid_recall_normal': 0.8104, 'valid_f_score_spam': 0.424, 'valid_precision_spam': 0.4254, 'valid_recall_spam': 0.4254, 'test_acc': 0.7122, 'test_f_score': 0.7064, 'test_precision': 0.702, 'test_recall': 0.7122, 'test_f_score_hateful': 0.2032, 'test_precision_hateful': 0.1633, 'test_recall_hateful': 0.1633, 'test_f_score_abusive': 0.7432, 'test_precision_abusive': 0.7524, 'test_recall_abusive': 0.7524, 'test_f_score_normal': 0.7989, 'test_precision_normal': 0.8093, 'test_recall_normal': 0.8093, 'test_f_score_spam': 0.4193, 'test_precision_spam': 0.415, 'test_recall_spam': 0.415}\n",
      "Directory added\n",
      "=== Experiment with seed 27 running ===\n",
      "=== Extracting tweets from JSON ===\n",
      "[Sizes] Training set: 64.00%, Validation set: 16.00%, Test set: 20.00%\n",
      "Downloading Bert, Processed 1 / 11\n",
      "Downloading Bert, Processed 2 / 11\n",
      "Downloading Bert, Processed 3 / 11\n",
      "Downloading Bert, Processed 4 / 11\n",
      "Downloading Bert, Processed 5 / 11\n",
      "Downloading Bert, Processed 6 / 11\n",
      "Downloading Bert, Processed 7 / 11\n",
      "Downloading Bert, Processed 8 / 11\n",
      "Downloading Bert, Processed 9 / 11\n",
      "Downloading Bert, Processed 10 / 11\n",
      "Downloading Bert, Processed 11 / 11\n",
      "Word embeddings generated\n",
      "=== Model Started Training ===\n"
     ]
    },
    {
     "ename": "KeyboardInterrupt",
     "evalue": "",
     "output_type": "error",
     "traceback": [
      "\u001b[0;31m---------------------------------------------------------------------------\u001b[0m",
      "\u001b[0;31mKeyboardInterrupt\u001b[0m                         Traceback (most recent call last)",
      "\u001b[0;32m<ipython-input-15-f90372994a4e>\u001b[0m in \u001b[0;36m<module>\u001b[0;34m\u001b[0m\n\u001b[1;32m     29\u001b[0m     \u001b[0mstart\u001b[0m \u001b[0;34m=\u001b[0m \u001b[0mtime\u001b[0m\u001b[0;34m.\u001b[0m\u001b[0mtime\u001b[0m\u001b[0;34m(\u001b[0m\u001b[0;34m)\u001b[0m\u001b[0;34m\u001b[0m\u001b[0;34m\u001b[0m\u001b[0m\n\u001b[1;32m     30\u001b[0m     \u001b[0mmodel\u001b[0m \u001b[0;34m=\u001b[0m \u001b[0mLogisticRegression\u001b[0m\u001b[0;34m(\u001b[0m\u001b[0mrandom_state\u001b[0m\u001b[0;34m=\u001b[0m\u001b[0mseed\u001b[0m\u001b[0;34m,\u001b[0m \u001b[0msolver\u001b[0m\u001b[0;34m=\u001b[0m\u001b[0;34m'lbfgs'\u001b[0m\u001b[0;34m,\u001b[0m \u001b[0mmulti_class\u001b[0m\u001b[0;34m=\u001b[0m\u001b[0;34m'multinomial'\u001b[0m\u001b[0;34m)\u001b[0m\u001b[0;34m\u001b[0m\u001b[0;34m\u001b[0m\u001b[0m\n\u001b[0;32m---> 31\u001b[0;31m     \u001b[0mmodel\u001b[0m \u001b[0;34m=\u001b[0m \u001b[0mmodel\u001b[0m\u001b[0;34m.\u001b[0m\u001b[0mfit\u001b[0m\u001b[0;34m(\u001b[0m\u001b[0mx_train\u001b[0m\u001b[0;34m,\u001b[0m \u001b[0mdata_copy\u001b[0m\u001b[0;34m[\u001b[0m\u001b[0;34m'y_train'\u001b[0m\u001b[0;34m]\u001b[0m\u001b[0;34m)\u001b[0m\u001b[0;34m\u001b[0m\u001b[0;34m\u001b[0m\u001b[0m\n\u001b[0m\u001b[1;32m     32\u001b[0m \u001b[0;34m\u001b[0m\u001b[0m\n\u001b[1;32m     33\u001b[0m     \u001b[0mprint\u001b[0m\u001b[0;34m(\u001b[0m\u001b[0;34m\"=== Model Completed Training ({:2f} min) ===\"\u001b[0m\u001b[0;34m.\u001b[0m\u001b[0mformat\u001b[0m\u001b[0;34m(\u001b[0m\u001b[0;34m(\u001b[0m\u001b[0mtime\u001b[0m\u001b[0;34m.\u001b[0m\u001b[0mtime\u001b[0m\u001b[0;34m(\u001b[0m\u001b[0;34m)\u001b[0m \u001b[0;34m-\u001b[0m \u001b[0mstart\u001b[0m\u001b[0;34m)\u001b[0m \u001b[0;34m/\u001b[0m \u001b[0;36m60\u001b[0m\u001b[0;34m)\u001b[0m\u001b[0;34m)\u001b[0m\u001b[0;34m\u001b[0m\u001b[0;34m\u001b[0m\u001b[0m\n",
      "\u001b[0;32m~/miniconda3/envs/mlp/lib/python3.6/site-packages/sklearn/linear_model/logistic.py\u001b[0m in \u001b[0;36mfit\u001b[0;34m(self, X, y, sample_weight)\u001b[0m\n\u001b[1;32m   1283\u001b[0m \u001b[0;34m\u001b[0m\u001b[0m\n\u001b[1;32m   1284\u001b[0m         X, y = check_X_y(X, y, accept_sparse='csr', dtype=_dtype, order=\"C\",\n\u001b[0;32m-> 1285\u001b[0;31m                          accept_large_sparse=solver != 'liblinear')\n\u001b[0m\u001b[1;32m   1286\u001b[0m         \u001b[0mcheck_classification_targets\u001b[0m\u001b[0;34m(\u001b[0m\u001b[0my\u001b[0m\u001b[0;34m)\u001b[0m\u001b[0;34m\u001b[0m\u001b[0;34m\u001b[0m\u001b[0m\n\u001b[1;32m   1287\u001b[0m         \u001b[0mself\u001b[0m\u001b[0;34m.\u001b[0m\u001b[0mclasses_\u001b[0m \u001b[0;34m=\u001b[0m \u001b[0mnp\u001b[0m\u001b[0;34m.\u001b[0m\u001b[0munique\u001b[0m\u001b[0;34m(\u001b[0m\u001b[0my\u001b[0m\u001b[0;34m)\u001b[0m\u001b[0;34m\u001b[0m\u001b[0;34m\u001b[0m\u001b[0m\n",
      "\u001b[0;32m~/miniconda3/envs/mlp/lib/python3.6/site-packages/sklearn/utils/validation.py\u001b[0m in \u001b[0;36mcheck_X_y\u001b[0;34m(X, y, accept_sparse, accept_large_sparse, dtype, order, copy, force_all_finite, ensure_2d, allow_nd, multi_output, ensure_min_samples, ensure_min_features, y_numeric, warn_on_dtype, estimator)\u001b[0m\n\u001b[1;32m    754\u001b[0m                     \u001b[0mensure_min_features\u001b[0m\u001b[0;34m=\u001b[0m\u001b[0mensure_min_features\u001b[0m\u001b[0;34m,\u001b[0m\u001b[0;34m\u001b[0m\u001b[0;34m\u001b[0m\u001b[0m\n\u001b[1;32m    755\u001b[0m                     \u001b[0mwarn_on_dtype\u001b[0m\u001b[0;34m=\u001b[0m\u001b[0mwarn_on_dtype\u001b[0m\u001b[0;34m,\u001b[0m\u001b[0;34m\u001b[0m\u001b[0;34m\u001b[0m\u001b[0m\n\u001b[0;32m--> 756\u001b[0;31m                     estimator=estimator)\n\u001b[0m\u001b[1;32m    757\u001b[0m     \u001b[0;32mif\u001b[0m \u001b[0mmulti_output\u001b[0m\u001b[0;34m:\u001b[0m\u001b[0;34m\u001b[0m\u001b[0;34m\u001b[0m\u001b[0m\n\u001b[1;32m    758\u001b[0m         y = check_array(y, 'csr', force_all_finite=True, ensure_2d=False,\n",
      "\u001b[0;32m~/miniconda3/envs/mlp/lib/python3.6/site-packages/sklearn/utils/validation.py\u001b[0m in \u001b[0;36mcheck_array\u001b[0;34m(array, accept_sparse, accept_large_sparse, dtype, order, copy, force_all_finite, ensure_2d, allow_nd, ensure_min_samples, ensure_min_features, warn_on_dtype, estimator)\u001b[0m\n\u001b[1;32m    525\u001b[0m             \u001b[0;32mtry\u001b[0m\u001b[0;34m:\u001b[0m\u001b[0;34m\u001b[0m\u001b[0;34m\u001b[0m\u001b[0m\n\u001b[1;32m    526\u001b[0m                 \u001b[0mwarnings\u001b[0m\u001b[0;34m.\u001b[0m\u001b[0msimplefilter\u001b[0m\u001b[0;34m(\u001b[0m\u001b[0;34m'error'\u001b[0m\u001b[0;34m,\u001b[0m \u001b[0mComplexWarning\u001b[0m\u001b[0;34m)\u001b[0m\u001b[0;34m\u001b[0m\u001b[0;34m\u001b[0m\u001b[0m\n\u001b[0;32m--> 527\u001b[0;31m                 \u001b[0marray\u001b[0m \u001b[0;34m=\u001b[0m \u001b[0mnp\u001b[0m\u001b[0;34m.\u001b[0m\u001b[0masarray\u001b[0m\u001b[0;34m(\u001b[0m\u001b[0marray\u001b[0m\u001b[0;34m,\u001b[0m \u001b[0mdtype\u001b[0m\u001b[0;34m=\u001b[0m\u001b[0mdtype\u001b[0m\u001b[0;34m,\u001b[0m \u001b[0morder\u001b[0m\u001b[0;34m=\u001b[0m\u001b[0morder\u001b[0m\u001b[0;34m)\u001b[0m\u001b[0;34m\u001b[0m\u001b[0;34m\u001b[0m\u001b[0m\n\u001b[0m\u001b[1;32m    528\u001b[0m             \u001b[0;32mexcept\u001b[0m \u001b[0mComplexWarning\u001b[0m\u001b[0;34m:\u001b[0m\u001b[0;34m\u001b[0m\u001b[0;34m\u001b[0m\u001b[0m\n\u001b[1;32m    529\u001b[0m                 raise ValueError(\"Complex data not supported\\n\"\n",
      "\u001b[0;32m~/miniconda3/envs/mlp/lib/python3.6/site-packages/numpy/core/numeric.py\u001b[0m in \u001b[0;36masarray\u001b[0;34m(a, dtype, order)\u001b[0m\n\u001b[1;32m    490\u001b[0m \u001b[0;34m\u001b[0m\u001b[0m\n\u001b[1;32m    491\u001b[0m     \"\"\"\n\u001b[0;32m--> 492\u001b[0;31m     \u001b[0;32mreturn\u001b[0m \u001b[0marray\u001b[0m\u001b[0;34m(\u001b[0m\u001b[0ma\u001b[0m\u001b[0;34m,\u001b[0m \u001b[0mdtype\u001b[0m\u001b[0;34m,\u001b[0m \u001b[0mcopy\u001b[0m\u001b[0;34m=\u001b[0m\u001b[0;32mFalse\u001b[0m\u001b[0;34m,\u001b[0m \u001b[0morder\u001b[0m\u001b[0;34m=\u001b[0m\u001b[0morder\u001b[0m\u001b[0;34m)\u001b[0m\u001b[0;34m\u001b[0m\u001b[0;34m\u001b[0m\u001b[0m\n\u001b[0m\u001b[1;32m    493\u001b[0m \u001b[0;34m\u001b[0m\u001b[0m\n\u001b[1;32m    494\u001b[0m \u001b[0;34m\u001b[0m\u001b[0m\n",
      "\u001b[0;32m~/miniconda3/envs/mlp/lib/python3.6/site-packages/torch/tensor.py\u001b[0m in \u001b[0;36m__array__\u001b[0;34m(self, dtype)\u001b[0m\n\u001b[1;32m    397\u001b[0m             \u001b[0;32mreturn\u001b[0m \u001b[0mself\u001b[0m\u001b[0;34m.\u001b[0m\u001b[0mcpu\u001b[0m\u001b[0;34m(\u001b[0m\u001b[0;34m)\u001b[0m\u001b[0;34m.\u001b[0m\u001b[0mnumpy\u001b[0m\u001b[0;34m(\u001b[0m\u001b[0;34m)\u001b[0m\u001b[0;34m\u001b[0m\u001b[0;34m\u001b[0m\u001b[0m\n\u001b[1;32m    398\u001b[0m         \u001b[0;32melse\u001b[0m\u001b[0;34m:\u001b[0m\u001b[0;34m\u001b[0m\u001b[0;34m\u001b[0m\u001b[0m\n\u001b[0;32m--> 399\u001b[0;31m             \u001b[0;32mreturn\u001b[0m \u001b[0mself\u001b[0m\u001b[0;34m.\u001b[0m\u001b[0mcpu\u001b[0m\u001b[0;34m(\u001b[0m\u001b[0;34m)\u001b[0m\u001b[0;34m.\u001b[0m\u001b[0mnumpy\u001b[0m\u001b[0;34m(\u001b[0m\u001b[0;34m)\u001b[0m\u001b[0;34m.\u001b[0m\u001b[0mastype\u001b[0m\u001b[0;34m(\u001b[0m\u001b[0mdtype\u001b[0m\u001b[0;34m,\u001b[0m \u001b[0mcopy\u001b[0m\u001b[0;34m=\u001b[0m\u001b[0;32mFalse\u001b[0m\u001b[0;34m)\u001b[0m\u001b[0;34m\u001b[0m\u001b[0;34m\u001b[0m\u001b[0m\n\u001b[0m\u001b[1;32m    400\u001b[0m \u001b[0;34m\u001b[0m\u001b[0m\n\u001b[1;32m    401\u001b[0m     \u001b[0;31m# Wrap Numpy array again in a suitable tensor when done, to support e.g.\u001b[0m\u001b[0;34m\u001b[0m\u001b[0;34m\u001b[0m\u001b[0;34m\u001b[0m\u001b[0m\n",
      "\u001b[0;31mKeyboardInterrupt\u001b[0m: "
     ]
    }
   ],
   "source": [
    "import torch\n",
    "\"\"\"\n",
    "Experiments \n",
    "\n",
    "\"\"\"\n",
    "experiment_seeds = [26, 27, 28]\n",
    "for i, seed in enumerate(experiment_seeds):\n",
    "    print(\"=== Experiment with seed {} running ===\".format(seed))\n",
    "    data_copy, data_map = TextDataProvider(path_data, path_labels, 1).generate_word_level_embeddings('bert', seed)\n",
    "    \n",
    "#     data_copy, data_map = TextDataProvider(path_data, path_labels, 1).generate_tdidf_embeddings(seed)\n",
    "    \n",
    "#     ## \n",
    "    x_train = [data_map[key]['embedded_tweet'] for key in data_copy['x_train']]\n",
    "    x_valid = [data_map[key]['embedded_tweet'] for key in data_copy['x_valid']]\n",
    "    x_test = [data_map[key]['embedded_tweet'] for key in data_copy['x_test']]\n",
    "#     ##\n",
    "    \n",
    "    x_train = torch.Tensor(x_train)\n",
    "    x_train = x_train.view(x_train.shape[0],-1)\n",
    "    \n",
    "    x_valid = torch.Tensor(x_valid)\n",
    "    x_valid = x_valid.view(x_valid.shape[0],-1)\n",
    "    \n",
    "    x_test = torch.Tensor(x_test)\n",
    "    x_test = x_test.view(x_test.shape[0],-1)\n",
    "        \n",
    "    print(\"=== Model Started Training ===\")\n",
    "    start = time.time()\n",
    "    model = LogisticRegression(random_state=seed, solver='lbfgs', multi_class='multinomial')\n",
    "    model = model.fit(x_train, data_copy['y_train'])\n",
    "    \n",
    "    print(\"=== Model Completed Training ({:2f} min) ===\".format((time.time() - start) / 60))\n",
    "    \n",
    "    output = {}\n",
    "    output['seed'] = seed\n",
    "    type_key = ['train', 'valid', 'test']\n",
    "    populate_missing_params(output) #so that we can add to same sheet as Neural Nets \n",
    "    for i, (x, y) in enumerate([(x_train, data_copy['y_train']), (x_valid, data_copy['y_valid']), (x_test, data_copy['y_test'])]):\n",
    "        results(model, type_key[i], x, y, output)\n",
    "        print('\\n')\n",
    "    file_action_key = 'w' if i == 0 else 'a+' \n",
    "    print(output)\n",
    "    output_to_csv(output, file_action_key, experiment_name='logistic_regression_baseline_bert')"
   ]
  },
  {
   "cell_type": "code",
   "execution_count": null,
   "metadata": {},
   "outputs": [],
   "source": [
    "x_train[0]"
   ]
  },
  {
   "cell_type": "code",
   "execution_count": null,
   "metadata": {},
   "outputs": [],
   "source": [
    "output_to_csv(output, file_action_key, experiment_name='lo')"
   ]
  },
  {
   "cell_type": "code",
   "execution_count": null,
   "metadata": {},
   "outputs": [],
   "source": []
  }
 ],
 "metadata": {
  "kernelspec": {
   "display_name": "Python 3",
   "language": "python",
   "name": "python3"
  },
  "language_info": {
   "codemirror_mode": {
    "name": "ipython",
    "version": 3
   },
   "file_extension": ".py",
   "mimetype": "text/x-python",
   "name": "python",
   "nbconvert_exporter": "python",
   "pygments_lexer": "ipython3",
   "version": "3.6.7"
  }
 },
 "nbformat": 4,
 "nbformat_minor": 2
}
