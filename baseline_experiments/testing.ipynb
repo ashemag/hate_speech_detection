{
 "cells": [
  {
   "cell_type": "code",
   "execution_count": 1,
   "metadata": {},
   "outputs": [],
   "source": [
    "import sys\n",
    "import os\n",
    "sys.path.append(\"..\")\n",
    "from globals import ROOT_DIR\n",
    "from data_providers import TextDataProvider\n",
    "import configparser\n",
    "config = configparser.ConfigParser()\n",
    "config.read('../config.ini')\n",
    "path_data = os.path.join(ROOT_DIR, config['DEFAULT']['PATH_DATA'])\n",
    "path_labels = os.path.join(ROOT_DIR, config['DEFAULT']['PATH_LABELS'])"
   ]
  },
  {
   "cell_type": "code",
   "execution_count": 6,
   "metadata": {},
   "outputs": [],
   "source": [
    "VERBOSE = True\n",
    "def extract_data(embedding_key, embedding_level_key, seed):\n",
    "    path_data = os.path.join(ROOT_DIR, config['DEFAULT']['PATH_DATA'])\n",
    "    path_labels = os.path.join(ROOT_DIR, config['DEFAULT']['PATH_LABELS'])\n",
    "    data_provider = TextDataProvider(path_data, path_labels)\n",
    "    if embedding_level_key == 'word':\n",
    "        output = data_provider.generate_word_level_embeddings(embedding_key, seed)\n",
    "    elif embedding_level_key == 'char':\n",
    "        output = data_provider.generate_char_level_embeddings(seed)\n",
    "    else:\n",
    "        output = data_provider.generate_tdidf_embeddings(seed)\n",
    "\n",
    "    if VERBOSE:\n",
    "        print(\"[Sizes] Training set: {}, Validation set: {}, Test set: {}\".format(len(output['x_train']),\n",
    "                                                                                  len(output['x_valid']),\n",
    "                                                                                  len(output['x_test'])))\n",
    "    return output"
   ]
  },
  {
   "cell_type": "code",
   "execution_count": 7,
   "metadata": {},
   "outputs": [
    {
     "name": "stdout",
     "output_type": "stream",
     "text": [
      "=== Extracting annotations ===\n",
      "=== Extracting tweets from JSON ===\n",
      "[Stats] Removed 3/58358 labels\n",
      "[Stats] Average tweet length is 17 words\n",
      "[Stats] Average tweet length is 121 characters\n",
      "[Stats] Average favorite count is 15\n",
      "[Stats] Average retweet count is 146\n",
      "[Stats] Average follower count is 710\n",
      "[Sizes] Training set: 72.00%, Validation set: 8.00%, Test set: 20.00%\n",
      "[Sizes] Training set: 42017, Validation set: 4669, Test set: 11672\n"
     ]
    }
   ],
   "source": [
    "data = extract_data(embedding_key='twitter', embedding_level_key='tdidf', seed=28)"
   ]
  },
  {
   "cell_type": "code",
   "execution_count": 9,
   "metadata": {},
   "outputs": [
    {
     "data": {
      "text/plain": [
       "(42017, 10000)"
      ]
     },
     "execution_count": 9,
     "metadata": {},
     "output_type": "execute_result"
    }
   ],
   "source": [
    "data['x_train'].shape"
   ]
  },
  {
   "cell_type": "code",
   "execution_count": null,
   "metadata": {},
   "outputs": [],
   "source": []
  }
 ],
 "metadata": {
  "kernelspec": {
   "display_name": "Python 3",
   "language": "python",
   "name": "python3"
  },
  "language_info": {
   "codemirror_mode": {
    "name": "ipython",
    "version": 3
   },
   "file_extension": ".py",
   "mimetype": "text/x-python",
   "name": "python",
   "nbconvert_exporter": "python",
   "pygments_lexer": "ipython3",
   "version": "3.6.7"
  }
 },
 "nbformat": 4,
 "nbformat_minor": 2
}
