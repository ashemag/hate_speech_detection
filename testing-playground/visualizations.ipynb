{
 "cells": [
  {
   "cell_type": "code",
   "execution_count": 7,
   "metadata": {},
   "outputs": [],
   "source": [
    "from matplotlib import pyplot as plt\n",
    "%matplotlib inline\n",
    "import seaborn as sns\n",
    "import pandas as pd"
   ]
  },
  {
   "cell_type": "code",
   "execution_count": 8,
   "metadata": {},
   "outputs": [],
   "source": [
    "data = {\n",
    "    'untuned-phase-3-LDA':.30,\n",
    "    'tuned-phase-1-baseline':0.3194,\n",
    "    'tuned-phase-2-replies':0.3305,\n",
    "    'tuned-phase-2-reply-coefficients':0.3193,\n",
    "    'tuned-phase-3-LDA':0.3234,\n",
    "}\n",
    "x = [key for key, value in data.items()]\n",
    "y = [value for key, value in data.items()]"
   ]
  },
  {
   "cell_type": "code",
   "execution_count": 9,
   "metadata": {},
   "outputs": [
    {
     "data": {
      "text/plain": [
       "(0.29, 0.34)"
      ]
     },
     "execution_count": 9,
     "metadata": {},
     "output_type": "execute_result"
    },
    {
     "data": {
      "image/png": "[encoded data removed]",
      "text/plain": [
       "<Figure size 1152x432 with 1 Axes>"
      ]
     },
     "metadata": {
      "needs_background": "light"
     },
     "output_type": "display_data"
    }
   ],
   "source": [
    "plt.figure(figsize=(16, 6))\n",
    "\n",
    "sns.set_style(\"whitegrid\")\n",
    "# sns.set_palette(sns.light_palette(\"green\"))\n",
    "fig = sns.barplot(x=x, y=y, color='#E98381')\n",
    "fig.set_ylim(0.29, .34)\n"
   ]
  },
  {
   "cell_type": "code",
   "execution_count": 113,
   "metadata": {},
   "outputs": [
    {
     "name": "stdout",
     "output_type": "stream",
     "text": [
      "40.40\\%\n",
      "29.07\\%\n",
      "25.59\\%\n",
      "4.94\\%\n",
      "8.10\\%\n",
      "81.64\\%\n",
      "8.51\\%\n",
      "1.75\\%\n",
      "4.12\\%\n",
      "6.02\\%\n",
      "66.46\\%\n",
      "23.39\\%\n",
      "0.92\\%\n",
      "2.12\\%\n",
      "20.54\\%\n",
      "76.43\\%\n"
     ]
    },
    {
     "data": {
      "text/plain": [
       "[[tensor(40.4022), tensor(29.0676), tensor(25.5942), tensor(4.9360)],\n",
       " [tensor(8.0958), tensor(81.6420), tensor(8.5139), tensor(1.7484)],\n",
       " [tensor(4.1245), tensor(6.0223), tensor(66.4600), tensor(23.3932)],\n",
       " [tensor(0.9153), tensor(2.1167), tensor(20.5378), tensor(76.4302)]]"
      ]
     },
     "execution_count": 113,
     "metadata": {},
     "output_type": "execute_result"
    }
   ],
   "source": [
    "import torch \n",
    "t = torch.Tensor([[ 221.,  159.,  140.,   27.],\n",
    "        [ 213., 2148.,  224.,   46.],\n",
    "        [ 326.,  476., 5253., 1849.],\n",
    "        [  16.,   37.,  359., 1336.]])\n",
    "matrix = []\n",
    "for row in t:\n",
    "    norm = row.sum()\n",
    "    row_vals = []\n",
    "    for item in row:\n",
    "        row_vals.append(item.item() / norm * 100)\n",
    "        print('{:.2f}\\%'.format(item.item() / norm * 100))\n",
    "    matrix.append(row_vals)\n",
    "matrix"
   ]
  },
  {
   "cell_type": "code",
   "execution_count": 114,
   "metadata": {},
   "outputs": [
    {
     "data": {
      "text/plain": [
       "tensor(12830.)"
      ]
     },
     "execution_count": 114,
     "metadata": {},
     "output_type": "execute_result"
    }
   ],
   "source": [
    "t.sum()"
   ]
  },
  {
   "cell_type": "code",
   "execution_count": 115,
   "metadata": {
    "scrolled": true
   },
   "outputs": [
    {
     "data": {
      "text/plain": [
       "'100.00 \\\\%100.00 \\\\%100.00 \\\\%100.00 \\\\%\\n100.00 \\\\%100.00 \\\\%100.00 \\\\%100.00 \\\\%\\n100.00 \\\\%100.00 \\\\%100.00 \\\\%100.00 \\\\%\\n100.00 \\\\%100.00 \\\\%100.00 \\\\%100.00 \\\\%\\n'"
      ]
     },
     "execution_count": 115,
     "metadata": {},
     "output_type": "execute_result"
    }
   ],
   "source": [
    "\n",
    "import numpy as np\n",
    "output_str = ''\n",
    "for item in t:\n",
    "    for item2 in item:\n",
    "        output_str += \"{:.2f} \\%\".format(item2.item()/item2.sum() * 100)\n",
    "    output_str += '\\n'\n",
    "\n",
    "output_str"
   ]
  },
  {
   "cell_type": "code",
   "execution_count": 116,
   "metadata": {},
   "outputs": [],
   "source": [
    "import os\n",
    "import sys\n",
    "sys.path.append(\"..\")\n",
    "from globals import ROOT_DIR\n",
    "data_file = os.path.join(ROOT_DIR, 'data/founta_data.npy')\n",
    "data = np.load(data_file)\n",
    "data = data[()]\n",
    "path_labels = os.path.join(ROOT_DIR, 'data/founta_data.csv')\n",
    "labels = pd.read_csv(path_labels, header='infer', index_col=0, squeeze=True).to_dict()"
   ]
  },
  {
   "cell_type": "code",
   "execution_count": 117,
   "metadata": {},
   "outputs": [],
   "source": [
    "mapping = {'hateful': 0, 'abusive': 1, 'normal':2, 'spam':3}"
   ]
  },
  {
   "cell_type": "code",
   "execution_count": 118,
   "metadata": {},
   "outputs": [
    {
     "name": "stdout",
     "output_type": "stream",
     "text": [
      "0.04081123634039502\n"
     ]
    }
   ],
   "source": [
    "# preds = []\n",
    "# for key, value in data.items():\n",
    "#     y = mapping[labels[value['id']]]\n",
    "#     choice = np.random.choice([0,1], p=[0.04, .96])\n",
    "#     if choice == 0:\n",
    "#         preds.append(1)\n",
    "#     else:\n",
    "#         preds.append(0)            \n",
    "# print(np.mean(preds))"
   ]
  },
  {
   "cell_type": "code",
   "execution_count": 180,
   "metadata": {},
   "outputs": [],
   "source": [
    "def plot_confusion_matrix(cm,classes=['Hateful', 'Abusive', 'Normal', 'Spam'],\n",
    "                          normalize=True,\n",
    "                          title=None,\n",
    "                          cmap=plt.cm.Blues):\n",
    "    \"\"\"\n",
    "    This function prints and plots the confusion matrix.\n",
    "    Normalization can be applied by setting `normalize=True`.\n",
    "    \"\"\"\n",
    "\n",
    "    fig, ax = plt.subplots(figsize=(10,10))\n",
    "    im = ax.imshow(cm, interpolation='nearest', cmap=cmap)\n",
    "    ax.figure.colorbar(im, ax=ax)\n",
    "    # We want to show all ticks...\n",
    "    ax.set(xticks=np.arange(cm.shape[1]),\n",
    "           yticks=np.arange(cm.shape[0]),\n",
    "           # ... and label them with the respective list entries\n",
    "           xticklabels=classes, yticklabels=classes,\n",
    "           ylabel='True label',\n",
    "           xlabel='Predicted label')\n",
    "\n",
    "    # Rotate the tick labels and set their alignment.\n",
    "    plt.setp(ax.get_xticklabels(), rotation=45, ha=\"right\",\n",
    "             rotation_mode=\"anchor\")\n",
    "\n",
    "    # Loop over data dimensions and create text annotations.\n",
    "#     fmt = '.1f' if normalize else 'd'\n",
    "    thresh = cm.max() / 2.\n",
    "    for i in range(cm.shape[0]):\n",
    "        for j in range(cm.shape[1]):\n",
    "            sample = cm[i,j].item()\n",
    "            print(sample)\n",
    "            sample = '{}%'.format(np.around(cm[i,j].item(), 1))\n",
    "            ax.text(j, i, format(sample),\n",
    "                    ha=\"center\", va=\"center\",\n",
    "                    color=\"white\" if cm[i, j] > thresh else \"black\")\n",
    "    fig.tight_layout()\n",
    "    plt.grid(None)\n",
    "    plt.savefig('fig.png')\n",
    "    return ax\n",
    "\n",
    "\n"
   ]
  },
  {
   "cell_type": "code",
   "execution_count": 181,
   "metadata": {},
   "outputs": [
    {
     "name": "stdout",
     "output_type": "stream",
     "text": [
      "40.40219497680664\n",
      "29.067642211914062\n",
      "25.59415054321289\n",
      "4.936014652252197\n",
      "8.095781326293945\n",
      "81.6419677734375\n",
      "8.513873100280762\n",
      "1.748384714126587\n",
      "4.1244940757751465\n",
      "6.0222673416137695\n",
      "66.46002197265625\n",
      "23.393218994140625\n",
      "0.9153317809104919\n",
      "2.1167047023773193\n",
      "20.537755966186523\n",
      "76.4301986694336\n"
     ]
    },
    {
     "data": {
      "image/png": "[encoded data removed]",
      "text/plain": [
       "<Figure size 720x720 with 2 Axes>"
      ]
     },
     "metadata": {},
     "output_type": "display_data"
    }
   ],
   "source": [
    "import numpy as np\n",
    "np.set_printoptions(precision=2)\n",
    "\n",
    "# Plot non-normalized confusion matrix\n",
    "ax = plot_confusion_matrix(torch.Tensor(matrix),\n",
    "                      title='Confusion matrix, without normalization')\n",
    "\n",
    "plt.show()"
   ]
  },
  {
   "cell_type": "code",
   "execution_count": 149,
   "metadata": {},
   "outputs": [
    {
     "data": {
      "text/plain": [
       "<Figure size 432x288 with 0 Axes>"
      ]
     },
     "metadata": {},
     "output_type": "display_data"
    }
   ],
   "source": []
  },
  {
   "cell_type": "code",
   "execution_count": null,
   "metadata": {},
   "outputs": [],
   "source": []
  },
  {
   "cell_type": "code",
   "execution_count": null,
   "metadata": {},
   "outputs": [],
   "source": []
  }
 ],
 "metadata": {
  "kernelspec": {
   "display_name": "Python 3",
   "language": "python",
   "name": "python3"
  },
  "language_info": {
   "codemirror_mode": {
    "name": "ipython",
    "version": 3
   },
   "file_extension": ".py",
   "mimetype": "text/x-python",
   "name": "python",
   "nbconvert_exporter": "python",
   "pygments_lexer": "ipython3",
   "version": "3.6.7"
  }
 },
 "nbformat": 4,
 "nbformat_minor": 2
}
